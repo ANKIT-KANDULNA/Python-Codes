{
 "cells": [
  {
   "cell_type": "markdown",
   "id": "1dfd30f4-5edb-4ade-a5be-62f699b19c20",
   "metadata": {},
   "source": [
    "1.Write a NumPy program to create a 3x3x3 array filled with arbitrary values"
   ]
  },
  {
   "cell_type": "code",
   "execution_count": 11,
   "id": "a13a774a-426b-426e-bff8-1fc1c0e5c50a",
   "metadata": {},
   "outputs": [
    {
     "name": "stdout",
     "output_type": "stream",
     "text": [
      "[[[0.10237207 0.37353017 0.1258236 ]\n",
      "  [0.85506035 0.95630757 0.86740443]\n",
      "  [0.13832858 0.22192031 0.62728214]]\n",
      "\n",
      " [[0.6499242  0.70867516 0.50322228]\n",
      "  [0.7889774  0.38252532 0.82919947]\n",
      "  [0.93845229 0.36983855 0.93187035]]\n",
      "\n",
      " [[0.2588756  0.37745452 0.25293185]\n",
      "  [0.06679771 0.51462781 0.84137903]\n",
      "  [0.57054846 0.87500446 0.15745657]]]\n"
     ]
    }
   ],
   "source": [
    "import numpy as n\n",
    "a=n.random.random((3,3,3))\n",
    "print(a)"
   ]
  },
  {
   "cell_type": "markdown",
   "id": "e141a660-9787-4183-be27-83e9abd989cf",
   "metadata": {},
   "source": [
    "2.Write a NumPy program to create a vector with values ​​ranging from 15 to 55 and print all values ​​except the first and last."
   ]
  },
  {
   "cell_type": "code",
   "execution_count": 3,
   "id": "715a620b-57ef-4901-a116-2911b8b10b3c",
   "metadata": {},
   "outputs": [
    {
     "name": "stdout",
     "output_type": "stream",
     "text": [
      "[16 17 18 19 20 21 22 23 24 25 26 27 28 29 30 31 32 33 34 35 36 37 38 39\n",
      " 40 41 42 43 44 45 46 47 48 49 50 51 52 53 54]\n"
     ]
    }
   ],
   "source": [
    "import numpy as n\n",
    "b=n.arange(16,55)\n",
    "print(b)"
   ]
  },
  {
   "cell_type": "markdown",
   "id": "a529c17d-7d22-431b-b74f-f6ef20f68ba9",
   "metadata": {},
   "source": [
    "3.Write a NumPy program to multiply two given arrays of the 2 x 3 size element-by-element. "
   ]
  },
  {
   "cell_type": "code",
   "execution_count": 4,
   "id": "0732c26e-fc84-4461-b21f-0f58f1634adf",
   "metadata": {},
   "outputs": [
    {
     "name": "stdout",
     "output_type": "stream",
     "text": [
      "[[30 18 35]\n",
      " [ 2 16 48]]\n"
     ]
    }
   ],
   "source": [
    "import numpy as n\n",
    "c=n.array([[10,2,5],[2,4,6]])\n",
    "d=n.array([[3,9,7],[1,4,8]])\n",
    "e=c*d\n",
    "print(e)"
   ]
  },
  {
   "cell_type": "markdown",
   "id": "f2baaec4-52f8-46ce-8a27-6453774bfb09",
   "metadata": {},
   "source": [
    "4.Write a NumPy program to create a 3X4 array and iterate over it"
   ]
  },
  {
   "cell_type": "code",
   "execution_count": 9,
   "id": "bd444801-2640-4acb-a0cd-759f2fa7d71a",
   "metadata": {},
   "outputs": [
    {
     "name": "stdout",
     "output_type": "stream",
     "text": [
      "12\n",
      "11\n",
      "10\n",
      "9\n",
      "8\n",
      "7\n",
      "6\n",
      "5\n",
      "4\n",
      "3\n",
      "2\n",
      "1\n"
     ]
    }
   ],
   "source": [
    "import numpy as n\n",
    "k=n.array([[12,11,10,9],[8,7,6,5],[4,3,2,1]])\n",
    "for i in k:\n",
    "    for j in i:\n",
    "        print(j)"
   ]
  },
  {
   "cell_type": "markdown",
   "id": "bef20d59-48f3-486b-935e-e095f3325ca1",
   "metadata": {},
   "source": [
    "5.Write a NumPy program to compute the sum of the diagonal element(Trace of array) of a given array(4x4). (use built in linear algebra function only) "
   ]
  },
  {
   "cell_type": "code",
   "execution_count": 10,
   "id": "50c2acf8-3a4f-4525-bdac-1820f9cbc069",
   "metadata": {},
   "outputs": [
    {
     "name": "stdout",
     "output_type": "stream",
     "text": [
      "32\n"
     ]
    }
   ],
   "source": [
    "import numpy as n\n",
    "k=n.array([[1,2,3,4],[5,6,7,8],[9,0,10,11],[12,13,14,15]])\n",
    "dsum=n.trace(k)\n",
    "print(dsum)"
   ]
  },
  {
   "cell_type": "markdown",
   "id": "da8b8f05-697e-4a7b-91f9-c9e1a7b19ae4",
   "metadata": {},
   "source": [
    "#### NOTE : \n",
    "Submit the notebook file with name : 2kxx-CSE-xx_your name\n",
    "\n",
    "questions containing \"given array\" declare the array and give appropriate values "
   ]
  }
 ],
 "metadata": {
  "kernelspec": {
   "display_name": "Python 3 (ipykernel)",
   "language": "python",
   "name": "python3"
  },
  "language_info": {
   "codemirror_mode": {
    "name": "ipython",
    "version": 3
   },
   "file_extension": ".py",
   "mimetype": "text/x-python",
   "name": "python",
   "nbconvert_exporter": "python",
   "pygments_lexer": "ipython3",
   "version": "3.11.5"
  }
 },
 "nbformat": 4,
 "nbformat_minor": 5
}
