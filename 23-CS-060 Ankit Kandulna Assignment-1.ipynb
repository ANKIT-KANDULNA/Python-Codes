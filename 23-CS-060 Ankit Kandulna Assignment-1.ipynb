{
 "cells": [
  {
   "cell_type": "markdown",
   "id": "59338eb4",
   "metadata": {},
   "source": [
    "Implement loops in python"
   ]
  },
  {
   "cell_type": "code",
   "execution_count": 18,
   "id": "15f97783",
   "metadata": {},
   "outputs": [
    {
     "name": "stdout",
     "output_type": "stream",
     "text": [
      "Enter range:10\n",
      "1\n",
      "3\n",
      "5\n",
      "7\n",
      "9\n",
      "\n",
      "\n",
      "1\n",
      "3\n",
      "5\n",
      "7\n",
      "9\n"
     ]
    }
   ],
   "source": [
    "n=int(input(\"Enter range:\"))\n",
    "for i in range(1,n,2):\n",
    "    print(i)\n",
    "print('\\n')\n",
    "i=1\n",
    "while(i<n):\n",
    "    print(i)\n",
    "    i=i+2"
   ]
  },
  {
   "cell_type": "markdown",
   "id": "9ea34911",
   "metadata": {},
   "source": [
    "Area of a triangle using lambda"
   ]
  },
  {
   "cell_type": "code",
   "execution_count": 2,
   "id": "ef3a957f",
   "metadata": {},
   "outputs": [
    {
     "name": "stdout",
     "output_type": "stream",
     "text": [
      "Enter the base of a right angled triangle:15\n",
      "Enter the height of a right angled triangle:2\n",
      "Area of the triangle is: 15.0\n"
     ]
    }
   ],
   "source": [
    "b=int(input(\"Enter the base of a right angled triangle:\"))\n",
    "h=int(input(\"Enter the height of a right angled triangle:\"))\n",
    "x=lambda b,h:1/2*b*h\n",
    "print(\"Area of the triangle is:\",x(b,h))"
   ]
  },
  {
   "cell_type": "markdown",
   "id": "9a9be256",
   "metadata": {},
   "source": [
    "write a program to check if a number is prime"
   ]
  },
  {
   "cell_type": "code",
   "execution_count": 9,
   "id": "b0e95341",
   "metadata": {},
   "outputs": [
    {
     "name": "stdout",
     "output_type": "stream",
     "text": [
      "Enter a number:89\n",
      "Prime\n"
     ]
    }
   ],
   "source": [
    "x=int(input(\"Enter a number:\"))\n",
    "i=2\n",
    "while(i<x):\n",
    "    if(x%i==0):\n",
    "        print(\"Not prime\")\n",
    "        break\n",
    "    i=i+1\n",
    "else:\n",
    "    print(\"Prime\")"
   ]
  },
  {
   "cell_type": "markdown",
   "id": "5e969852",
   "metadata": {},
   "source": [
    "write a program to check if a string is palindrome\n",
    "\n",
    "example : 'level' is a palindrome"
   ]
  },
  {
   "cell_type": "code",
   "execution_count": 11,
   "id": "49b661a1",
   "metadata": {},
   "outputs": [
    {
     "name": "stdout",
     "output_type": "stream",
     "text": [
      "Enter a string:ankit\n",
      "Not Palindrome\n"
     ]
    }
   ],
   "source": [
    "s=str(input(\"Enter a string:\"))\n",
    "x=list(s)\n",
    "y=x[::-1]\n",
    "if(x==y):\n",
    "    print(\"Palindrome\")\n",
    "else:\n",
    "    print(\"Not Palindrome\")"
   ]
  },
  {
   "cell_type": "markdown",
   "id": "f77d938b",
   "metadata": {},
   "source": [
    "Given a sorted integer *list* a, return a sorted list of the squares of each number.\n",
    "\n",
    "Example: a = [-8,-1,0,5,12]\n",
    "\n",
    "return [0,1,25,64,144]\n",
    "\n",
    "After squaring, the array becomes [64, 1, 0, 24, 144].\n",
    "\n",
    "After sorting, it becomes [0,1,25,64,144]."
   ]
  },
  {
   "cell_type": "code",
   "execution_count": 16,
   "id": "8c16469a",
   "metadata": {},
   "outputs": [
    {
     "name": "stdout",
     "output_type": "stream",
     "text": [
      "[0, 1, 25, 64, 144]\n"
     ]
    }
   ],
   "source": [
    "l=[]\n",
    "a=[-8,-1,0,5,12]\n",
    "for i in a:\n",
    "    x=i**2\n",
    "    l.append(x)\n",
    "s=sorted(l)\n",
    "print(s)"
   ]
  },
  {
   "cell_type": "code",
   "execution_count": null,
   "id": "3a426d6b",
   "metadata": {},
   "outputs": [],
   "source": []
  }
 ],
 "metadata": {
  "kernelspec": {
   "display_name": "Python 3 (ipykernel)",
   "language": "python",
   "name": "python3"
  },
  "language_info": {
   "codemirror_mode": {
    "name": "ipython",
    "version": 3
   },
   "file_extension": ".py",
   "mimetype": "text/x-python",
   "name": "python",
   "nbconvert_exporter": "python",
   "pygments_lexer": "ipython3",
   "version": "3.11.5"
  }
 },
 "nbformat": 4,
 "nbformat_minor": 5
}
