{
 "cells": [
  {
   "cell_type": "markdown",
   "id": "5e99bf8c",
   "metadata": {},
   "source": [
    "# Assignment 3 - Pandas Data Analysis Practice"
   ]
  },
  {
   "cell_type": "markdown",
   "id": "1c331997",
   "metadata": {},
   "source": [
    "### 1. Write a Pandas program to create and display a dataframe from a specified dictionary data which has the index labels."
   ]
  },
  {
   "cell_type": "code",
   "execution_count": 1,
   "id": "37fb54c2",
   "metadata": {},
   "outputs": [
    {
     "name": "stdout",
     "output_type": "stream",
     "text": [
      "       Name  Roll-no  Marks    state\n",
      "0     Ankit       13     46    Delhi\n",
      "1  Abhishek       87     99  Haryana\n",
      "2     Manas        4     46   Mumbai\n",
      "3     Rahul       68     76  Gujarat\n",
      "4     Rishi        7     96   Kerala\n"
     ]
    }
   ],
   "source": [
    "import pandas as pd\n",
    "df={\n",
    "    'Name':['Ankit','Abhishek','Manas','Rahul','Rishi'],\n",
    "    'Roll-no':[13,87,4,68,7],\n",
    "    'Marks':[46,99,46,76,96],\n",
    "    'state':['Delhi','Madhaya Pradesh','Mumbai','Gujarat','Kerala']\n",
    "}\n",
    "k=pd.DataFrame(df)\n",
    "print(k)"
   ]
  },
  {
   "cell_type": "markdown",
   "id": "ab080517",
   "metadata": {},
   "source": [
    "### 2. Write a Pandas program to read a csv file from a specified source and print the first 5 rows."
   ]
  },
  {
   "cell_type": "code",
   "execution_count": 2,
   "id": "653e2c3b",
   "metadata": {},
   "outputs": [
    {
     "name": "stdout",
     "output_type": "stream",
     "text": [
      "   R.no.    Name  Marks   Address\n",
      "0     21  Ishaan     59     Delhi\n",
      "1     27  Nikunj     69  Guwahati\n",
      "2     14   David     79    Kanpur\n",
      "3     25   Naman     81   Chennai\n",
      "4      9   Ankit     99    Mumbai\n"
     ]
    }
   ],
   "source": [
    "import pandas as pd\n",
    "df=pd.read_csv(\"C:\\\\Users\\\\ankit\\\\Desktop\\\\Book2.csv\")\n",
    "print(df)"
   ]
  },
  {
   "cell_type": "markdown",
   "id": "d283c050",
   "metadata": {},
   "source": [
    "### 3. Write a Pandas program to count the number of rows and columns of a Dataframe."
   ]
  },
  {
   "cell_type": "code",
   "execution_count": 16,
   "id": "13d0e5f7",
   "metadata": {},
   "outputs": [
    {
     "name": "stdout",
     "output_type": "stream",
     "text": [
      "Number of rows are :  5\n",
      "Number of columns :  4\n"
     ]
    }
   ],
   "source": [
    "import pandas as pd\n",
    "df={\n",
    "    'Name':['Ankit','Abhishek','Manas','Rahul','Rishi'],\n",
    "    'Roll-no':[13,7,41,68,72],\n",
    "    'Marks':[46,99,46,76,96],\n",
    "    'state':['Delhi','Madhaya Pradesh','Mumbai','Gujarat','Kerala']\n",
    "}\n",
    "k=pd.DataFrame(df)\n",
    "num_rows=len(k)\n",
    "num_cols=len(k.columns)\n",
    "print(\"Number of rows are : \",num_rows)\n",
    "print(\"Number of columns : \",num_cols)"
   ]
  },
  {
   "cell_type": "markdown",
   "id": "eac18334",
   "metadata": {},
   "source": [
    "### 4. Write a Pandas program to select the rows where number of attempts in the examination is less than 2 and souurce greater than 15. Sample Python dictionary data and list labels : exam_data ={'name':['Anastasia','Dima','Katherine','James','Emily','Michael','Matthew','Laura','Kelvin','Jonas'],'score':[12.5,9,16.5,np.nan,9,20,14.5,np.nan,8,19],'attempts':[1,3,2,3,2,3,1,1,2,1],'qualify':['yes','no','yes','no','no','yes','yes','no','no','yes']} Labels=['a','b','c','d','e','f','g',labels=['a','b','c','d','e','f','g','h','i','j']]"
   ]
  },
  {
   "cell_type": "code",
   "execution_count": 17,
   "id": "352e82e2",
   "metadata": {},
   "outputs": [
    {
     "name": "stdout",
     "output_type": "stream",
     "text": [
      "Selected rows where number of attempts < 2 and score > 15:\n",
      "    name  score  attempts qualify\n",
      "j  Jonas   19.0         1     yes\n"
     ]
    }
   ],
   "source": [
    "import pandas as pd\n",
    "import numpy as np\n",
    "exam_data = {\n",
    "    'name': ['Anastasia', 'Dima', 'Katherine', 'James', 'Emily', 'Michael', 'Matthew', 'Laura', 'Kelvin', 'Jonas'],\n",
    "    'score': [12.5, 9, 16.5, np.nan, 9, 20, 14.5, np.nan, 8, 19],\n",
    "    'attempts': [1, 3, 2, 3, 2, 3, 1, 1, 2, 1],\n",
    "    'qualify': ['yes', 'no', 'yes', 'no', 'no', 'yes', 'yes', 'no', 'no', 'yes']\n",
    "}\n",
    "labels = ['a', 'b', 'c', 'd', 'e', 'f', 'g', 'h', 'i', 'j']\n",
    "df = pd.DataFrame(exam_data, index=labels)\n",
    "selected_rows = df[(df['attempts'] < 2) & (df['score'] > 15)]\n",
    "print(\"Selected rows where number of attempts < 2 and score > 15:\")\n",
    "print(selected_rows)"
   ]
  },
  {
   "cell_type": "markdown",
   "id": "171cef47",
   "metadata": {},
   "source": [
    "### 5. Write a Pandas program to calculate the mean of all student's scores. Data is stored in a dataframe. Sample Pyhton dictionary data and list labels:   exam_date={'name':['Anastasia','Dima','Katherie','James','Emily','Michael','Matthew','Laura','Kelvin','Jonas'], 'score':[12.5,9,16.5,np.nan,9,20,14.5,np.nan,8,19], 'attempts':[1,3,2,3,2,3,1,1,2,1], 'qualify':['yes','no','yes','no','no','yes','yes','no','no','yes']} labels=['a','b','c','d','e','f','g','h','i','j']"
   ]
  },
  {
   "cell_type": "code",
   "execution_count": 18,
   "id": "a7e3c8f5",
   "metadata": {},
   "outputs": [
    {
     "name": "stdout",
     "output_type": "stream",
     "text": [
      "Mean of all student's scores: 13.5625\n"
     ]
    }
   ],
   "source": [
    "import pandas as pd\n",
    "import numpy as np\n",
    "exam_data = {\n",
    "    'name': ['Anastasia', 'Dima', 'Katherie', 'James', 'Emily', 'Michael', 'Matthew', 'Laura', 'Kelvin', 'Jonas'],\n",
    "    'score': [12.5, 9, 16.5, np.nan, 9, 20, 14.5, np.nan, 8, 19],\n",
    "    'attempts': [1, 3, 2, 3, 2, 3, 1, 1, 2, 1],\n",
    "    'qualify': ['yes', 'no', 'yes', 'no', 'no', 'yes', 'yes', 'no', 'no', 'yes']\n",
    "}\n",
    "labels = ['a', 'b', 'c', 'd', 'e', 'f', 'g', 'h', 'i', 'j']\n",
    "df = pd.DataFrame(exam_data, index=labels)\n",
    "mean_score = df['score'].mean()\n",
    "print(\"Mean of all student's scores:\", mean_score)"
   ]
  },
  {
   "cell_type": "code",
   "execution_count": null,
   "id": "904c80a8",
   "metadata": {},
   "outputs": [],
   "source": []
  },
  {
   "cell_type": "code",
   "execution_count": null,
   "id": "555df20f",
   "metadata": {},
   "outputs": [],
   "source": []
  }
 ],
 "metadata": {
  "kernelspec": {
   "display_name": "Python 3 (ipykernel)",
   "language": "python",
   "name": "python3"
  },
  "language_info": {
   "codemirror_mode": {
    "name": "ipython",
    "version": 3
   },
   "file_extension": ".py",
   "mimetype": "text/x-python",
   "name": "python",
   "nbconvert_exporter": "python",
   "pygments_lexer": "ipython3",
   "version": "3.11.5"
  }
 },
 "nbformat": 4,
 "nbformat_minor": 5
}
