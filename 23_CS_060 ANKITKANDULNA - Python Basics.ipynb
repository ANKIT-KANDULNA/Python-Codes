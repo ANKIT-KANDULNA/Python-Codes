{
 "cells": [
  {
   "cell_type": "markdown",
   "id": "35f04af6",
   "metadata": {},
   "source": [
    "# Introduction to Python"
   ]
  },
  {
   "cell_type": "markdown",
   "id": "37c71dff",
   "metadata": {},
   "source": [
    "Python is a high-level, general-purpose programming language known for its simplicity, readability, and versatility. It was created by Guido van Rossum and first released in 1991. Python supports multiple programming paradigms, including procedural, object-oriented, and functional programming.\n",
    "\n",
    "Python is an *interpreted language*, which means that the Python interpreter executes the code directly, line by line, rather than first compiling it into machine code.\n",
    "\n",
    "Python is *dynamically typed*, meaning you don't need to specify variable types explicitly. This provides flexibility but also requires careful attention to variable types during development.\n",
    "\n",
    "Python is designed to be *cross-platform*, meaning that code written in Python can run on various operating systems without modification. "
   ]
  },
  {
   "cell_type": "code",
   "execution_count": 43,
   "id": "d1d65603",
   "metadata": {},
   "outputs": [
    {
     "name": "stdout",
     "output_type": "stream",
     "text": [
      "<class 'bool'>\n"
     ]
    }
   ],
   "source": [
    "x = True\n",
    "print(type(x))"
   ]
  },
  {
   "cell_type": "markdown",
   "id": "7207b588",
   "metadata": {},
   "source": [
    "You don't need to mention type before declaring a variable. The type of a variable is determined at runtime based on the value it is assigned."
   ]
  },
  {
   "cell_type": "markdown",
   "id": "858f2aaa",
   "metadata": {},
   "source": [
    "### Input and Output"
   ]
  },
  {
   "cell_type": "code",
   "execution_count": 44,
   "id": "7359abb1",
   "metadata": {},
   "outputs": [
    {
     "name": "stdout",
     "output_type": "stream",
     "text": [
      "6\n"
     ]
    }
   ],
   "source": [
    "x = input()"
   ]
  },
  {
   "cell_type": "code",
   "execution_count": 45,
   "id": "5f391ad7",
   "metadata": {},
   "outputs": [
    {
     "name": "stdout",
     "output_type": "stream",
     "text": [
      "the value of x is 6\n"
     ]
    }
   ],
   "source": [
    "print(\"the value of x is\",  x)"
   ]
  },
  {
   "cell_type": "markdown",
   "id": "45741fad",
   "metadata": {},
   "source": [
    "### lists in python "
   ]
  },
  {
   "cell_type": "markdown",
   "id": "2f55475d",
   "metadata": {},
   "source": [
    "Lists in Python and arrays in languages like C or C++ have some similarities, but there are also key differences. Here are some of the main distinctions:\n",
    "\n",
    "1. **Dynamic Size:**\n",
    "   - **Python List:** Lists in Python are dynamic arrays, meaning they can grow or shrink in size as needed. You can easily add or remove elements from a list.\n",
    "   - **C/C++ Array:** Arrays in C or C++ have a fixed size, and you need to specify the size when declaring them. Once declared, the size cannot be changed.\n",
    "\n",
    "2. **Data Type:**\n",
    "   - **Python List:** A Python list can hold elements of different data types. You can have integers, strings, or even other lists within a Python list.\n",
    "   - **C/C++ Array:** C and C++ arrays are homogeneous, meaning they can only store elements of the same data type.\n",
    "\n",
    "3. **Built-in Operations:**\n",
    "   - **Python List:** Python lists come with a variety of built-in methods for common operations, such as adding or removing elements, sorting, and more.\n",
    "   - **C/C++ Array:** Operations on C or C++ arrays often require manual coding. Libraries like the C++ Standard Template Library (STL) provide some functionality similar to Python lists.\n",
    "\n",
    "4. **Bound Checking:**\n",
    "   - **Python List:** Lists in Python automatically handle boundary checking. You can access elements using negative indices to count from the end.\n",
    "   - **C/C++ Array:** C and C++ arrays do not have built-in boundary checking. Accessing an index beyond the array's bounds can lead to undefined behavior and potential crashes.\n",
    "\n",
    "5. **Library Support:**\n",
    "   - **Python List:** Python lists are part of the Python standard library and come with many built-in functions and methods.\n",
    "   - **C/C++ Array:** In C or C++, you might use arrays, but more complex data structures or dynamic arrays often require additional libraries or manual memory management.\n",
    "\n",
    "6. **Memory Allocation:**\n",
    "   - **Python List:** Memory management for Python lists is handled automatically by the Python interpreter. You don't need to worry about memory allocation or deallocation.\n",
    "   - **C/C++ Array:** Memory management for arrays in C or C++ requires manual allocation and deallocation using functions like `malloc` and `free`.\n",
    "\n",
    "In summary, while both Python lists and C/C++ arrays provide a way to store collections of elements, their implementation, flexibility, and functionality differ significantly due to the high-level nature of Python and the low-level nature of C and C++."
   ]
  },
  {
   "cell_type": "code",
   "execution_count": 12,
   "id": "750f34a7",
   "metadata": {},
   "outputs": [],
   "source": [
    "list1 = [\"a\", \"b\", 1, 2, True]"
   ]
  },
  {
   "cell_type": "markdown",
   "id": "86886ee6",
   "metadata": {},
   "source": [
    "### for loop"
   ]
  },
  {
   "cell_type": "markdown",
   "id": "a55f86ab",
   "metadata": {},
   "source": [
    "*for i in range(start, stop, step):*\n",
    "\n",
    "    //Start body after proper indentation"
   ]
  },
  {
   "cell_type": "code",
   "execution_count": 48,
   "id": "03cff188",
   "metadata": {},
   "outputs": [
    {
     "name": "stdout",
     "output_type": "stream",
     "text": [
      "0\n",
      "1\n",
      "2\n",
      "3\n",
      "4\n",
      "5\n",
      "6\n",
      "7\n",
      "8\n",
      "9\n",
      "10\n",
      "11\n"
     ]
    }
   ],
   "source": [
    "for i in range(12):\n",
    "    print(i)"
   ]
  },
  {
   "cell_type": "code",
   "execution_count": 49,
   "id": "4e2b8eb5",
   "metadata": {},
   "outputs": [
    {
     "name": "stdout",
     "output_type": "stream",
     "text": [
      "apple\n",
      "mango\n",
      "orange\n",
      "kiwi\n"
     ]
    }
   ],
   "source": [
    "fruits = ['apple', 'mango', 'orange', 'kiwi']\n",
    "for fruit in fruits:\n",
    "    print(fruit)"
   ]
  },
  {
   "cell_type": "code",
   "execution_count": 50,
   "id": "4d38b4cc",
   "metadata": {},
   "outputs": [
    {
     "name": "stdout",
     "output_type": "stream",
     "text": [
      "a <class 'str'>\n",
      "b <class 'str'>\n",
      "1 <class 'int'>\n",
      "2 <class 'int'>\n",
      "True <class 'bool'>\n"
     ]
    }
   ],
   "source": [
    "#list1 = [\"a\", \"b\", 1, 2, True]\n",
    "for element in list1:\n",
    "    print(element, type(element))"
   ]
  },
  {
   "cell_type": "markdown",
   "id": "191c80c0",
   "metadata": {},
   "source": [
    "### Index slicing"
   ]
  },
  {
   "cell_type": "markdown",
   "id": "8252c27e",
   "metadata": {},
   "source": [
    "Index slicing in Python is a powerful feature that allows you to extract a portion of a sequence (like a list, tuple, or string) based on indices. It provides a concise and flexible way to work with sublists or substrings.\n",
    "\n",
    "*sequence[start:stop:step]*"
   ]
  },
  {
   "cell_type": "code",
   "execution_count": 53,
   "id": "fb94fc92",
   "metadata": {},
   "outputs": [
    {
     "name": "stdout",
     "output_type": "stream",
     "text": [
      "[3, 7, 8, 11, 19]\n"
     ]
    }
   ],
   "source": [
    "list2 = [1, 3, 2, 7, 9, 8, 12, 11, 20, 19, 30]\n",
    "print(list2[1:10:2])"
   ]
  },
  {
   "cell_type": "code",
   "execution_count": 54,
   "id": "8ae68803",
   "metadata": {},
   "outputs": [
    {
     "data": {
      "text/plain": [
       "[30, 19, 20, 11, 12, 8, 9, 7, 2, 3, 1]"
      ]
     },
     "execution_count": 54,
     "metadata": {},
     "output_type": "execute_result"
    }
   ],
   "source": [
    "list2[::-1]"
   ]
  },
  {
   "cell_type": "code",
   "execution_count": 57,
   "id": "1cf4a0c0",
   "metadata": {},
   "outputs": [
    {
     "data": {
      "text/plain": [
       "19"
      ]
     },
     "execution_count": 57,
     "metadata": {},
     "output_type": "execute_result"
    }
   ],
   "source": [
    "list2[-2]"
   ]
  },
  {
   "cell_type": "code",
   "execution_count": 58,
   "id": "f5b5e82f",
   "metadata": {},
   "outputs": [
    {
     "data": {
      "text/plain": [
       "'llo'"
      ]
     },
     "execution_count": 58,
     "metadata": {},
     "output_type": "execute_result"
    }
   ],
   "source": [
    "s = \"helloworld\"\n",
    "s[2:5:1]"
   ]
  },
  {
   "cell_type": "code",
   "execution_count": 59,
   "id": "7b604e9f",
   "metadata": {},
   "outputs": [
    {
     "name": "stdout",
     "output_type": "stream",
     "text": [
      "[1, 2, 3, 7, 8, 9, 11, 12, 19, 20, 30]\n"
     ]
    }
   ],
   "source": [
    "list3 = sorted(list2)\n",
    "print(list3)"
   ]
  },
  {
   "cell_type": "markdown",
   "id": "40d4a7ef",
   "metadata": {},
   "source": [
    "### Dictionary in python"
   ]
  },
  {
   "cell_type": "markdown",
   "id": "fc3c6a4a",
   "metadata": {},
   "source": [
    "A dictionary in Python is a collection of key-value pairs, where each key must be unique. Dictionaries are also known as associative arrays or hash maps in other programming languages. They provide a flexible way to store and retrieve data, making them one of the most versatile and widely used data structures in Python. It is very similar to hash map"
   ]
  },
  {
   "cell_type": "code",
   "execution_count": 19,
   "id": "207043b5",
   "metadata": {},
   "outputs": [],
   "source": [
    "dict1 = {\n",
    "    'name': 'John',\n",
    "    'age': 25,\n",
    "    'city': 'New York',\n",
    "    'contact': {\n",
    "        'email': 'john@example.com',\n",
    "        'phone': '555-1234'\n",
    "    },\n",
    "    'friends': ['Alice', 'Bob', 'Charlie'],\n",
    "    'grades': {'math': 90, 'english': 85, 'history': 78}\n",
    "}"
   ]
  },
  {
   "cell_type": "code",
   "execution_count": 60,
   "id": "e50d860f",
   "metadata": {},
   "outputs": [
    {
     "data": {
      "text/plain": [
       "'John'"
      ]
     },
     "execution_count": 60,
     "metadata": {},
     "output_type": "execute_result"
    }
   ],
   "source": [
    "dict1['name']"
   ]
  },
  {
   "cell_type": "code",
   "execution_count": 61,
   "id": "b2a4ba0b",
   "metadata": {},
   "outputs": [
    {
     "data": {
      "text/plain": [
       "85"
      ]
     },
     "execution_count": 61,
     "metadata": {},
     "output_type": "execute_result"
    }
   ],
   "source": [
    "dict1['grades']['english']"
   ]
  },
  {
   "cell_type": "markdown",
   "id": "e8a54172",
   "metadata": {},
   "source": [
    "### functions"
   ]
  },
  {
   "cell_type": "markdown",
   "id": "c9e9a27a",
   "metadata": {},
   "source": [
    "*def function_name(arguments):*\n",
    "        \n",
    "        //start body after proper indentation"
   ]
  },
  {
   "cell_type": "code",
   "execution_count": 62,
   "id": "cce6fc17",
   "metadata": {},
   "outputs": [],
   "source": [
    "def factorial(n):\n",
    "    if n == 0 or n == 1:\n",
    "        return 1\n",
    "    else:\n",
    "        return n * factorial(n - 1)"
   ]
  },
  {
   "cell_type": "code",
   "execution_count": 63,
   "id": "b73669f5",
   "metadata": {},
   "outputs": [
    {
     "data": {
      "text/plain": [
       "720"
      ]
     },
     "execution_count": 63,
     "metadata": {},
     "output_type": "execute_result"
    }
   ],
   "source": [
    "factorial(6)"
   ]
  },
  {
   "cell_type": "markdown",
   "id": "90f1cadf",
   "metadata": {},
   "source": [
    "*Recursion* is a programming concept where a function calls itself in order to solve a problem. In other words, a recursive function is one that performs a task in part and delegates the remaining task to itself. The process continues until a base case is reached, at which point the function returns a result without making further recursive calls. Recursion is a common and powerful technique in computer science and programming."
   ]
  },
  {
   "cell_type": "code",
   "execution_count": 64,
   "id": "04a33cba",
   "metadata": {},
   "outputs": [],
   "source": [
    "import math"
   ]
  },
  {
   "cell_type": "code",
   "execution_count": 65,
   "id": "f82ea1f9",
   "metadata": {},
   "outputs": [],
   "source": [
    "pi = math.pi"
   ]
  },
  {
   "cell_type": "code",
   "execution_count": 66,
   "id": "05edef4d",
   "metadata": {},
   "outputs": [],
   "source": [
    "def area(r):\n",
    "    return pi*(r**2)"
   ]
  },
  {
   "cell_type": "code",
   "execution_count": 68,
   "id": "d58e11f3",
   "metadata": {},
   "outputs": [
    {
     "data": {
      "text/plain": [
       "113.1"
      ]
     },
     "execution_count": 68,
     "metadata": {},
     "output_type": "execute_result"
    }
   ],
   "source": [
    "round(area(6), 2)"
   ]
  },
  {
   "cell_type": "markdown",
   "id": "f61a81b1",
   "metadata": {},
   "source": [
    "### lambda"
   ]
  },
  {
   "cell_type": "markdown",
   "id": "db81d289",
   "metadata": {},
   "source": [
    "In Python, a lambda function is a concise way to create anonymous functions. Lambda functions are also known as anonymous functions because they don't have a name like a regular function defined with the def keyword. Lambda functions are defined using the lambda keyword, and they are often used for short-term operations where a full function definition would be overly verbose.\n",
    "\n",
    "*lambda arguments: expression*"
   ]
  },
  {
   "cell_type": "code",
   "execution_count": 69,
   "id": "a8b6ca87",
   "metadata": {},
   "outputs": [
    {
     "name": "stdout",
     "output_type": "stream",
     "text": [
      "78.53981633974483\n"
     ]
    }
   ],
   "source": [
    "areal = lambda r: pi*(r**2)\n",
    "print(areal(5))"
   ]
  },
  {
   "cell_type": "code",
   "execution_count": 70,
   "id": "96a8b3df",
   "metadata": {},
   "outputs": [
    {
     "name": "stdout",
     "output_type": "stream",
     "text": [
      "[('Charlie', 22), ('Alice', 25), ('Bob', 30)]\n"
     ]
    }
   ],
   "source": [
    "students = [('Alice', 25), ('Bob', 30), ('Charlie', 22)]\n",
    "sorted_students = sorted(students, key=lambda x: x[1])\n",
    "print(sorted_students)"
   ]
  },
  {
   "cell_type": "markdown",
   "id": "52ca2591",
   "metadata": {},
   "source": [
    "### tuples"
   ]
  },
  {
   "cell_type": "markdown",
   "id": "c19bd999",
   "metadata": {},
   "source": [
    "A tuple in Python is a collection data type that is used to store an ordered sequence of elements. Tuples are similar to lists, but there are key differences, primarily related to immutability.\n",
    "\n",
    "Mutability:\n",
    "\n",
    "Lists are mutable, meaning you can modify, add, or remove elements after the list is created. You can use methods like append(), extend(), insert(), remove(), and pop() to modify lists in place.\n",
    "Tuples are immutable, meaning once they are created, their elements cannot be modified. You cannot add or remove elements from a tuple, and attempts to modify elements directly will result in an error.\n",
    "\n",
    "Performance:\n",
    "\n",
    "Due to their mutability, lists may require more memory and are generally less memory-efficient than tuples.\n",
    "Tuples are more memory-efficient and may have slightly better performance for certain operations, especially when used as keys in dictionaries."
   ]
  },
  {
   "cell_type": "code",
   "execution_count": 71,
   "id": "f402598e",
   "metadata": {},
   "outputs": [
    {
     "data": {
      "text/plain": [
       "3"
      ]
     },
     "execution_count": 71,
     "metadata": {},
     "output_type": "execute_result"
    }
   ],
   "source": [
    "tuple1 = (2, 5, 8, 3, 2, 3, 5, 2, 7)\n",
    "tuple1.count(2)"
   ]
  },
  {
   "cell_type": "code",
   "execution_count": 73,
   "id": "2d0506f1",
   "metadata": {},
   "outputs": [
    {
     "data": {
      "text/plain": [
       "0"
      ]
     },
     "execution_count": 73,
     "metadata": {},
     "output_type": "execute_result"
    }
   ],
   "source": [
    "tuple1.index(2)"
   ]
  },
  {
   "cell_type": "code",
   "execution_count": null,
   "id": "6af664dc",
   "metadata": {},
   "outputs": [],
   "source": []
  }
 ],
 "metadata": {
  "kernelspec": {
   "display_name": "Python 3 (ipykernel)",
   "language": "python",
   "name": "python3"
  },
  "language_info": {
   "codemirror_mode": {
    "name": "ipython",
    "version": 3
   },
   "file_extension": ".py",
   "mimetype": "text/x-python",
   "name": "python",
   "nbconvert_exporter": "python",
   "pygments_lexer": "ipython3",
   "version": "3.11.5"
  }
 },
 "nbformat": 4,
 "nbformat_minor": 5
}
